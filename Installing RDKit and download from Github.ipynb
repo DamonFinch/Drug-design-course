{
  "cells": [
    {
      "cell_type": "markdown",
      "metadata": {
        "id": "view-in-github",
        "colab_type": "text"
      },
      "source": [
        "<a href=\"https://colab.research.google.com/github/UAMCAntwerpen/2040FBDBIC/blob/main/Installing%20RDKit%20and%20download%20from%20Github.ipynb\" target=\"_parent\"><img src=\"https://colab.research.google.com/assets/colab-badge.svg\" alt=\"Open In Colab\"/></a>"
      ]
    },
    {
      "cell_type": "markdown",
      "metadata": {
        "id": "EiOEly6Y05LG"
      },
      "source": [
        "## Useful RDKit and github commands"
      ]
    },
    {
      "cell_type": "markdown",
      "metadata": {
        "id": "RTcS32L1ThTT"
      },
      "source": [
        "IInstall RDKit and it's functions."
      ]
    },
    {
      "cell_type": "markdown",
      "metadata": {
        "id": "6JSE9a-2TvkK"
      },
      "source": [
        "First install the necessary Python libraries:"
      ]
    },
    {
      "cell_type": "code",
      "execution_count": null,
      "metadata": {
        "colab": {
          "base_uri": "https://localhost:8080/"
        },
        "id": "Lez_etzwWVMl",
        "outputId": "75304d87-1f11-45dc-a7ff-a6246515d200"
      },
      "outputs": [
        {
          "name": "stdout",
          "output_type": "stream",
          "text": [
            "Requirement already satisfied: rdkit-pypi in /Users/hans/anaconda3/lib/python3.7/site-packages (2022.3.5)\n",
            "Collecting pandas\n",
            "  Downloading pandas-1.3.5-cp37-cp37m-macosx_10_9_x86_64.whl (11.0 MB)\n",
            "\u001b[K     |████████████████████████████████| 11.0 MB 3.9 MB/s eta 0:00:01\n",
            "\u001b[?25hCollecting seaborn\n",
            "  Downloading seaborn-0.11.2-py3-none-any.whl (292 kB)\n",
            "\u001b[K     |████████████████████████████████| 292 kB 3.7 MB/s eta 0:00:01\n",
            "\u001b[?25hCollecting mols2grid\n",
            "  Downloading mols2grid-0.2.4-py3-none-any.whl (35 kB)\n",
            "Requirement already satisfied: requests in /Users/hans/.local/lib/python3.7/site-packages (2.25.0)\n",
            "Requirement already satisfied: Pillow in /Users/hans/anaconda3/lib/python3.7/site-packages (from rdkit-pypi) (8.4.0)\n",
            "Requirement already satisfied: numpy in /Users/hans/anaconda3/lib/python3.7/site-packages (from rdkit-pypi) (1.21.6)\n",
            "Requirement already satisfied: python-dateutil>=2.7.3 in /Users/hans/anaconda3/lib/python3.7/site-packages (from pandas) (2.8.2)\n",
            "Requirement already satisfied: pytz>=2017.3 in /Users/hans/anaconda3/lib/python3.7/site-packages (from pandas) (2021.3)\n",
            "Collecting scipy>=1.0\n",
            "  Downloading scipy-1.7.3-cp37-cp37m-macosx_10_9_x86_64.whl (33.0 MB)\n",
            "\u001b[K     |████████████████████████████████| 33.0 MB 2.6 MB/s eta 0:00:01\n",
            "\u001b[?25hRequirement already satisfied: matplotlib>=2.2 in /Users/hans/anaconda3/lib/python3.7/site-packages (from seaborn) (3.5.2)\n",
            "Requirement already satisfied: jinja2>=2.11.0 in /Users/hans/anaconda3/lib/python3.7/site-packages (from mols2grid) (2.11.3)\n",
            "Requirement already satisfied: chardet<4,>=3.0.2 in /Users/hans/.local/lib/python3.7/site-packages (from requests) (3.0.4)\n",
            "Requirement already satisfied: certifi>=2017.4.17 in /Users/hans/anaconda3/lib/python3.7/site-packages (from requests) (2021.10.8)\n",
            "Requirement already satisfied: urllib3<1.27,>=1.21.1 in /Users/hans/.local/lib/python3.7/site-packages (from requests) (1.26.2)\n",
            "Requirement already satisfied: idna<3,>=2.5 in /Users/hans/.local/lib/python3.7/site-packages (from requests) (2.10)\n",
            "Requirement already satisfied: MarkupSafe>=0.23 in /Users/hans/anaconda3/lib/python3.7/site-packages (from jinja2>=2.11.0->mols2grid) (2.0.1)\n",
            "Requirement already satisfied: kiwisolver>=1.0.1 in /Users/hans/anaconda3/lib/python3.7/site-packages (from matplotlib>=2.2->seaborn) (1.4.2)\n",
            "Requirement already satisfied: cycler>=0.10 in /Users/hans/anaconda3/lib/python3.7/site-packages (from matplotlib>=2.2->seaborn) (0.11.0)\n",
            "Requirement already satisfied: fonttools>=4.22.0 in /Users/hans/anaconda3/lib/python3.7/site-packages (from matplotlib>=2.2->seaborn) (4.33.3)\n",
            "Requirement already satisfied: packaging>=20.0 in /Users/hans/anaconda3/lib/python3.7/site-packages (from matplotlib>=2.2->seaborn) (21.3)\n",
            "Requirement already satisfied: pyparsing>=2.2.1 in /Users/hans/anaconda3/lib/python3.7/site-packages (from matplotlib>=2.2->seaborn) (3.0.4)\n",
            "Requirement already satisfied: typing-extensions in /Users/hans/anaconda3/lib/python3.7/site-packages (from kiwisolver>=1.0.1->matplotlib>=2.2->seaborn) (3.10.0.2)\n",
            "Requirement already satisfied: six>=1.5 in /Users/hans/anaconda3/lib/python3.7/site-packages (from python-dateutil>=2.7.3->pandas) (1.16.0)\n",
            "Installing collected packages: scipy, pandas, seaborn, mols2grid\n",
            "Successfully installed mols2grid-0.2.4 pandas-1.3.5 scipy-1.7.3 seaborn-0.11.2\n"
          ]
        }
      ],
      "source": [
        "!pip install rdkit-pypi pandas seaborn mols2grid requests"
      ]
    },
    {
      "cell_type": "markdown",
      "metadata": {
        "id": "sGsRROFxUF_9"
      },
      "source": [
        "Now import the necessary Python libraries:"
      ]
    },
    {
      "cell_type": "code",
      "execution_count": null,
      "metadata": {
        "id": "4Hx76a3dY3sA"
      },
      "outputs": [],
      "source": [
        "from rdkit import Chem #RDKit Chemistry\n",
        "from rdkit.Chem.Draw import IPythonConsole #RDKit drawing\n",
        "from rdkit.Chem import Draw #RDKit drawing\n",
        "# A few settings to improve the quality of structures \n",
        "from rdkit.Chem import rdDepictor\n",
        "IPythonConsole.ipython_useSVG = True\n",
        "rdDepictor.SetPreferCoordGen(True)\n",
        "from rdkit.Chem import PandasTools #Add the ability to add a molecule to a dataframe\n",
        "import mols2grid #The mols2grid library provides a convenient way of displaying molecules in a grid\n",
        "import requests"
      ]
    },
    {
      "cell_type": "markdown",
      "metadata": {
        "id": "l6TCuHQJYAh_"
      },
      "source": [
        "The RDKit also provides the ability to read molecules from common molecular structure formats. In the code below we use the RDKit's **Chem.SDMolSupplier()** function to read molecules from an [SD file](https://en.wikipedia.org/wiki/Chemical_table_file). First, we'll download the file from GitHub:"
      ]
    },
    {
      "cell_type": "code",
      "execution_count": null,
      "metadata": {
        "id": "MV-xfUp3YYRM"
      },
      "outputs": [],
      "source": [
        "url = \"https://raw.githubusercontent.com/UAMCAntwerpen/2040FBDBIC/main/Example_compounds.sdf\"\n",
        "r = requests.get(url)\n",
        "bytes_written = open('example_compounds.sdf', 'w').write(r.text)"
      ]
    },
    {
      "cell_type": "markdown",
      "metadata": {
        "id": "AjVoqRNAZlmD"
      },
      "source": [
        "Now we''ll read the file:"
      ]
    },
    {
      "cell_type": "code",
      "execution_count": null,
      "metadata": {
        "id": "3TxKyKDGZoRg"
      },
      "outputs": [],
      "source": [
        "mols = [x for x in Chem.SDMolSupplier(\"example_compounds.sdf\")]"
      ]
    }
  ],
  "metadata": {
    "colab": {
      "collapsed_sections": [
        "EiOEly6Y05LG",
        "7itNQgU1XJJv",
        "lIN5mCz_aFWk",
        "cyYtV_OXbea0",
        "ls16oHjFfOL7",
        "JZzpDeB513SF",
        "ev0cCO4bC49Q"
      ],
      "name": "Chemical informatics with RDKit.ipynb",
      "provenance": [],
      "include_colab_link": true
    },
    "kernelspec": {
      "display_name": "Python 3 (ipykernel)",
      "language": "python",
      "name": "python3"
    },
    "language_info": {
      "codemirror_mode": {
        "name": "ipython",
        "version": 3
      },
      "file_extension": ".py",
      "mimetype": "text/x-python",
      "name": "python",
      "nbconvert_exporter": "python",
      "pygments_lexer": "ipython3",
      "version": "3.7.4"
    }
  },
  "nbformat": 4,
  "nbformat_minor": 0
}