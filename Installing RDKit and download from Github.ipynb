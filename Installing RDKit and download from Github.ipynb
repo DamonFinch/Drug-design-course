{
  "cells": [
    {
      "cell_type": "markdown",
      "metadata": {
        "id": "view-in-github",
        "colab_type": "text"
      },
      "source": [
        "<a href=\"https://colab.research.google.com/github/UAMCAntwerpen/2040FBDBIC/blob/master/Installing%20RDKit%20and%20download%20from%20Github.ipynb\" target=\"_parent\"><img src=\"https://colab.research.google.com/assets/colab-badge.svg\" alt=\"Open In Colab\"/></a>"
      ]
    },
    {
      "cell_type": "markdown",
      "metadata": {
        "id": "EiOEly6Y05LG"
      },
      "source": [
        "## Useful RDKit and github commands"
      ]
    },
    {
      "cell_type": "markdown",
      "metadata": {
        "id": "RTcS32L1ThTT"
      },
      "source": [
        "IInstall RDKit and it's functions."
      ]
    },
    {
      "cell_type": "markdown",
      "metadata": {
        "id": "6JSE9a-2TvkK"
      },
      "source": [
        "First install the necessary Python libraries:"
      ]
    },
    {
      "cell_type": "code",
      "execution_count": null,
      "metadata": {
        "id": "Lez_etzwWVMl"
      },
      "outputs": [],
      "source": [
        "!pip install rdkit-pypi pandas seaborn mols2grid requests"
      ]
    },
    {
      "cell_type": "markdown",
      "metadata": {
        "id": "sGsRROFxUF_9"
      },
      "source": [
        "Now import the necessary Python libraries:"
      ]
    },
    {
      "cell_type": "code",
      "execution_count": null,
      "metadata": {
        "id": "4Hx76a3dY3sA"
      },
      "outputs": [],
      "source": [
        "from rdkit import Chem #RDKit Chemistry\n",
        "from rdkit.Chem.Draw import IPythonConsole #RDKit drawing\n",
        "from rdkit.Chem import Draw #RDKit drawing\n",
        "# A few settings to improve the quality of structures \n",
        "from rdkit.Chem import rdDepictor\n",
        "IPythonConsole.ipython_useSVG = True\n",
        "rdDepictor.SetPreferCoordGen(True)\n",
        "from rdkit.Chem import PandasTools #Add the ability to add a molecule to a dataframe\n",
        "import mols2grid #The mols2grid library provides a convenient way of displaying molecules in a grid\n",
        "import requests"
      ]
    },
    {
      "cell_type": "markdown",
      "metadata": {
        "id": "l6TCuHQJYAh_"
      },
      "source": [
        "The RDKit also provides the ability to read molecules from common molecular structure formats. In the code below we use the RDKit's **Chem.SDMolSupplier()** function to read molecules from an [SD file](https://en.wikipedia.org/wiki/Chemical_table_file). First, we'll download the file from GitHub:"
      ]
    },
    {
      "cell_type": "code",
      "execution_count": null,
      "metadata": {
        "id": "MV-xfUp3YYRM"
      },
      "outputs": [],
      "source": [
        "url = \"https://raw.githubusercontent.com/UAMCAntwerpen/2040FBDBIC/master/Example_compounds.sdf\"\n",
        "r = requests.get(url)\n",
        "bytes_written = open('example_compounds.sdf', 'w').write(r.text)"
      ]
    },
    {
      "cell_type": "markdown",
      "metadata": {
        "id": "AjVoqRNAZlmD"
      },
      "source": [
        "Now we''ll read the file:"
      ]
    },
    {
      "cell_type": "code",
      "execution_count": null,
      "metadata": {
        "id": "3TxKyKDGZoRg"
      },
      "outputs": [],
      "source": [
        "mols = [x for x in Chem.SDMolSupplier(\"example_compounds.sdf\")]"
      ]
    }
  ],
  "metadata": {
    "colab": {
      "collapsed_sections": [
        "EiOEly6Y05LG",
        "7itNQgU1XJJv",
        "lIN5mCz_aFWk",
        "cyYtV_OXbea0",
        "ls16oHjFfOL7",
        "JZzpDeB513SF",
        "ev0cCO4bC49Q"
      ],
      "name": "Chemical informatics with RDKit.ipynb",
      "provenance": [],
      "include_colab_link": true
    },
    "kernelspec": {
      "display_name": "Python 3 (ipykernel)",
      "language": "python",
      "name": "python3"
    },
    "language_info": {
      "codemirror_mode": {
        "name": "ipython",
        "version": 3
      },
      "file_extension": ".py",
      "mimetype": "text/x-python",
      "name": "python",
      "nbconvert_exporter": "python",
      "pygments_lexer": "ipython3",
      "version": "3.7.4"
    }
  },
  "nbformat": 4,
  "nbformat_minor": 0
}