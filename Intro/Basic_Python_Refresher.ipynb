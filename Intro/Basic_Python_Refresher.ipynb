{
  "cells": [
    {
      "cell_type": "markdown",
      "metadata": {
        "colab_type": "text",
        "id": "view-in-github"
      },
      "source": [
        "<a href=\"https://colab.research.google.com/github/UAMCAntwerpen/2040FBDBIC/blob/master/Basic_Python_Refresher.ipynb\" target=\"_parent\"><img src=\"https://colab.research.google.com/assets/colab-badge.svg\" alt=\"Open In Colab\"/></a>"
      ]
    },
    {
      "cell_type": "markdown",
      "metadata": {
        "id": "BnO7ec8clK43"
      },
      "source": [
        "## Your first Python line"
      ]
    },
    {
      "cell_type": "code",
      "execution_count": null,
      "metadata": {
        "id": "oru2GdGBlKnC"
      },
      "outputs": [],
      "source": [
        "print(\"Hello World\")"
      ]
    },
    {
      "cell_type": "markdown",
      "metadata": {
        "id": "kvPQ6aYvllhf"
      },
      "source": [
        "## Variable assignment"
      ]
    },
    {
      "cell_type": "code",
      "execution_count": null,
      "metadata": {
        "id": "XVKvJrQVlm7n"
      },
      "outputs": [],
      "source": [
        "myVariable = \"Hello World\"\n",
        "print(myVariable)\n",
        "\n",
        "myVariable = 1\n",
        "print(myVariable)\n",
        "\n",
        "anotherVariable = myVariable\n",
        "print(anotherVariable)\n",
        "\n",
        "myVariable = anotherVariable + 2\n",
        "print(myVariable)\n",
        "\n",
        "myVariable = \"Hello World\"\n",
        "print(len(myVariable))\n",
        "\n",
        "print(myVariable, anotherVariable, len(myVariable))"
      ]
    },
    {
      "cell_type": "markdown",
      "metadata": {
        "id": "hAxHwf3ylI_6"
      },
      "source": [
        "## Comments"
      ]
    },
    {
      "cell_type": "code",
      "execution_count": null,
      "metadata": {
        "id": "zh6Lzl_SnJZ3"
      },
      "outputs": [],
      "source": [
        "# This is a comment\n",
        "# and this also\n",
        "\n",
        "print(\"This is not a comment\")\n",
        "print(\"This is not a comment but a comment follows\")    # This is again a comment"
      ]
    },
    {
      "cell_type": "markdown",
      "metadata": {
        "id": "KorJiLwTocdR"
      },
      "source": [
        "## Numbers and arithmetics"
      ]
    },
    {
      "cell_type": "code",
      "execution_count": null,
      "metadata": {
        "id": "iVMtJ2OnofrJ"
      },
      "outputs": [],
      "source": [
        "a = 1\n",
        "b = 3\n",
        "c = 5\n",
        "d = 7\n",
        "\n",
        "print(\"a + b =\", a + b)      # summation\n",
        "print(\"b * c =\", b * c)      # multiplication\n",
        "print(\"d / b =\", d / b)      # division\n",
        "print(\"b^c =\", b**c)         # power"
      ]
    },
    {
      "cell_type": "markdown",
      "metadata": {
        "id": "O8TcMXT1qR6e"
      },
      "source": [
        "## Strings"
      ]
    },
    {
      "cell_type": "code",
      "execution_count": null,
      "metadata": {
        "id": "aFuuBh9iqU-d"
      },
      "outputs": [],
      "source": [
        "naam = \"haas\"\n",
        "print(\"Mijn\" + \" naam \" + \"is \" + naam)\n",
        "\n",
        "print(\"Ik ben \" + str(1.85) + \" m groot\")"
      ]
    },
    {
      "cell_type": "markdown",
      "metadata": {
        "id": "ODORpIlnL-I-"
      },
      "source": [
        "## Data types"
      ]
    },
    {
      "cell_type": "code",
      "execution_count": null,
      "metadata": {
        "id": "e2C3xIKaMELN"
      },
      "outputs": [],
      "source": [
        "id = 12                 # integer [int()]\n",
        "\n",
        "other = 12.3            # float [float()]\n",
        "otherFloat = 12.0\n",
        "\n",
        "name = \"test\"           # string [str()]\n",
        "\n",
        "valid = True            # boolean [bool()]\n",
        "notValid = False\n",
        "\n",
        "print(valid, type(valid))"
      ]
    },
    {
      "cell_type": "markdown",
      "metadata": {
        "id": "gZCRbyitP3s4"
      },
      "source": [
        "## Lists"
      ]
    },
    {
      "cell_type": "code",
      "execution_count": null,
      "metadata": {
        "id": "3SbQebEnP5_G"
      },
      "outputs": [],
      "source": [
        "myExampleList = []\n",
        "myExampleList.append(\"apple\")\n",
        "myExampleList.append(\"pear\")\n",
        "myExampleList.append(\"lemon\")\n",
        "print(myExampleList)\n",
        "print(myExampleList[1])\n",
        "\n",
        "anotherList = [1, 2, 3]\n",
        "print(anotherList[0])\n",
        "print(\"length:\", len(anotherList))\n",
        "\n",
        "total = myExampleList + anotherList\n",
        "print(total)\n",
        "total[3] = \"Nieuw\"\n",
        "print(total)\n",
        "\n",
        "total.pop(1)\n",
        "print(total)"
      ]
    },
    {
      "cell_type": "markdown",
      "metadata": {
        "id": "rqcukF-ER8cW"
      },
      "source": [
        "## Slicing"
      ]
    },
    {
      "cell_type": "code",
      "execution_count": null,
      "metadata": {
        "id": "RPT6k0nDR__7"
      },
      "outputs": [],
      "source": [
        "myList = [0, 10, 20, 30, 40, 50, 60, 70, 80, 90]\n",
        "print(myList)\n",
        "print(myList[:])\n",
        "print(myList[0:3])\n",
        "print(myList[:3])\n",
        "print(myList[3:])\n",
        "print(myList[3:5])\n",
        "print(\"\")\n",
        "print(myList[-1:])\n",
        "print(myList[-1])\n",
        "print(\"\")\n",
        "print(myList[3])\n",
        "print(myList[3:3])\n",
        "print(myList[3:4])"
      ]
    },
    {
      "cell_type": "markdown",
      "metadata": {
        "id": "yYIxW5GCbemH"
      },
      "source": [
        "## Tuples"
      ]
    },
    {
      "cell_type": "code",
      "execution_count": null,
      "metadata": {
        "id": "g4Pphl95cJG6"
      },
      "outputs": [],
      "source": [
        "myTuple = (1,2,3,4)\n",
        "print(myTuple)\n",
        "print(myTuple[2:4])\n",
        "#myTuple[2] = 5"
      ]
    },
    {
      "cell_type": "markdown",
      "metadata": {
        "id": "KCCxP2gJdc0d"
      },
      "source": [
        "## Dictionaries"
      ]
    },
    {
      "cell_type": "code",
      "execution_count": null,
      "metadata": {
        "id": "rqZY7Bi4depo"
      },
      "outputs": [],
      "source": [
        "d1 = {}\n",
        "d1['key'] = 3\n",
        "d1['anotherkey'] = 5\n",
        "d1[4] = 'value'\n",
        "print(d1)\n",
        "\n",
        "d2 = {\n",
        "    'hans' : 'de winter',\n",
        "    'cursus' : 'modeling',\n",
        "    'universiteit' : 'ua',\n",
        "    'aantal geslaagden' : 4\n",
        "}\n",
        "print(d2)\n",
        "print(d2['universiteit'])\n",
        "d2['universiteit'] = 'kul'\n",
        "print(d2)\n",
        "print(d2['universiteit'])\n",
        "\n",
        "print(\"\")\n",
        "prices = {\n",
        "    'iphone8' : {'price' : 600, 'stock' : 5},\n",
        "    'iphone9' : {'price' : 700, 'stock' : 0},\n",
        "    'iphonex' : {'price' : 800, 'stock' : 7}\n",
        "}\n",
        "print(prices)\n",
        "print(prices['iphone8'])\n",
        "print(prices['iphone8']['stock'])\n",
        "print(type(prices))\n",
        "print(type(prices['iphone8']))"
      ]
    },
    {
      "cell_type": "markdown",
      "metadata": {
        "id": "95fCHDJcgrIM"
      },
      "source": [
        "## Operators"
      ]
    },
    {
      "cell_type": "code",
      "execution_count": null,
      "metadata": {
        "id": "LZB_zKevgsjx"
      },
      "outputs": [],
      "source": [
        "fruits = [\"mango\", \"orange\", \"lemon\"]\n",
        "\n",
        "# Membership operators\n",
        "print(\"strawberry\" in fruits)\n",
        "print(\"strawberry\" not in fruits)\n",
        "print(\"\")\n",
        "\n",
        "# Logical operators (or, and, not)\n",
        "print(\"strawberry\" in fruits and \"cocos\" in fruits)\n",
        "print(\"strawberry\" in fruits or \"cocos\" in fruits)\n",
        "print(\"strawberry\" in fruits or \"cocos\" not in fruits)\n",
        "print(\"strawberry\" not in fruits or \"cocos\" in fruits)\n",
        "print(\"strawberry\" not in fruits and \"cocos\" in fruits)\n",
        "print(\"\")\n",
        "\n",
        "# Comparison operators\n",
        "print(3 > 4)\n",
        "print(3 < 4)\n",
        "print( 3 <= 4)\n",
        "print(3 == 3)\n",
        "print(3 != 4)\n",
        "print(\"\")"
      ]
    },
    {
      "cell_type": "markdown",
      "metadata": {
        "id": "6XnaOal9h72x"
      },
      "source": [
        "## If statements"
      ]
    },
    {
      "cell_type": "code",
      "execution_count": null,
      "metadata": {
        "id": "LPN6pw4Ch90Y"
      },
      "outputs": [],
      "source": [
        "# Identations are important!\n",
        "\n",
        "a = [1,2,3,4]\n",
        "if 5 in a:\n",
        "  print(5, \"in\", a)\n",
        "else:\n",
        "  print(5, \"not in\", a)\n",
        "  a.append(5)\n",
        "\n",
        "if 5 in a:\n",
        "  print(5, \"in\", a)\n",
        "else:\n",
        "  print(5, \"not in\", a)\n",
        "  a.append(5)"
      ]
    },
    {
      "cell_type": "markdown",
      "metadata": {
        "id": "iAVvR_KrmhyI"
      },
      "source": [
        "## For loops"
      ]
    },
    {
      "cell_type": "code",
      "execution_count": null,
      "metadata": {
        "id": "t1dAr9QHmjNm"
      },
      "outputs": [],
      "source": [
        "fruits = [\"apple\", \"mango\", \"orange\"]\n",
        "for fruit in fruits:\n",
        "  print(fruit)\n",
        "\n",
        "for i in range(0, 10, 1):\n",
        "  print(i, i + 10)\n",
        "\n",
        "for i in range(0, len(fruits)):\n",
        "  print(fruits[i])\n",
        "\n",
        "for i in range(0, len(fruits)):\n",
        "  fruits[i] = fruits[i] + \"s\"\n",
        "print(fruits)"
      ]
    },
    {
      "cell_type": "markdown",
      "metadata": {
        "id": "kWs4BfUandcG"
      },
      "source": [
        "## While loops"
      ]
    },
    {
      "cell_type": "code",
      "execution_count": null,
      "metadata": {
        "id": "Wz8dosqQniXk"
      },
      "outputs": [],
      "source": [
        "target = 10\n",
        "index = 1\n",
        "while index <= target:\n",
        "  print(index, target)\n",
        "  index += 1"
      ]
    },
    {
      "cell_type": "markdown",
      "metadata": {
        "id": "Rrs4w_ht0Gz1"
      },
      "source": [
        "## Interrupting loops"
      ]
    },
    {
      "cell_type": "code",
      "execution_count": null,
      "metadata": {
        "id": "t0u1G3jV0L_V"
      },
      "outputs": [],
      "source": [
        "for i in range(10):\n",
        "  if i == 5:\n",
        "    continue\n",
        "  print(i)\n",
        "\n",
        "print(\"\")\n",
        "i = 0\n",
        "while i < 100:\n",
        "  i += 1\n",
        "  if i == 5: break\n",
        "  if i == 3: continue\n",
        "  print(i)"
      ]
    },
    {
      "cell_type": "markdown",
      "metadata": {
        "id": "_j2-7sN90tZm"
      },
      "source": [
        "## Functions"
      ]
    },
    {
      "cell_type": "code",
      "execution_count": null,
      "metadata": {
        "id": "rUotz7mO1MGG"
      },
      "outputs": [],
      "source": [
        "def sum(x, y):\n",
        "  s = x + y\n",
        "  return s\n",
        "\n",
        "\n",
        "a = 4\n",
        "b = 5\n",
        "c = sum(a,b)\n",
        "print(c)\n",
        "print(sum(4,sum(a,b)))"
      ]
    },
    {
      "cell_type": "markdown",
      "metadata": {
        "id": "b8G0hgle2A9t"
      },
      "source": [
        "## Global and local variables"
      ]
    },
    {
      "cell_type": "code",
      "execution_count": null,
      "metadata": {
        "id": "A4ipCVaZ2DyP"
      },
      "outputs": [],
      "source": [
        "def AreaOfCircle(radius = 3):\n",
        "  pi = 3.14\n",
        "  print(pi)\n",
        "  return (radius * radius * pi)\n",
        "\n",
        "radius = 2\n",
        "print(radius)\n",
        "#print(pi)      # Local to the function, so not visible here\n",
        "print(AreaOfCircle(radius))"
      ]
    },
    {
      "cell_type": "markdown",
      "metadata": {
        "id": "dk_SFDPY22jd"
      },
      "source": [
        "## Packages and modules"
      ]
    },
    {
      "cell_type": "code",
      "execution_count": null,
      "metadata": {
        "id": "rVr9JZZ12-LW"
      },
      "outputs": [],
      "source": [
        "# Many modules exist, \"time\" is one of these\n",
        "import time\n",
        "\n",
        "print(time.time())\n",
        "time.sleep(1)\n",
        "print(time.time())\n",
        "\n",
        "# rdkit is another module with chem-informatics functions - more on this in the\n",
        "# next class"
      ]
    },
    {
      "cell_type": "markdown",
      "metadata": {
        "id": "eeydRh7YGJJG"
      },
      "source": [
        "## File reading and writing"
      ]
    },
    {
      "cell_type": "code",
      "execution_count": null,
      "metadata": {
        "id": "c-IagrpgGL5d"
      },
      "outputs": [],
      "source": [
        "f = open(\"test.txt\", \"w\")\n",
        "f.write(\"This is a line\\n\")\n",
        "f.write(\"This is a second line\\n\")\n",
        "f.write(\"\\n\")\n",
        "f.close()\n",
        "\n",
        "f = open(\"test.txt\", \"r\")\n",
        "for line in f.readlines():\n",
        "  line = line.strip()\n",
        "  if line is None or line == \"\":\n",
        "    continue\n",
        "  print(line)\n"
      ]
    }
  ],
  "metadata": {
    "colab": {
      "authorship_tag": "ABX9TyPV08tqJBahfcOwI+uEPql4",
      "collapsed_sections": [
        "BnO7ec8clK43",
        "kvPQ6aYvllhf",
        "hAxHwf3ylI_6",
        "KorJiLwTocdR",
        "O8TcMXT1qR6e",
        "ODORpIlnL-I-",
        "gZCRbyitP3s4",
        "rqcukF-ER8cW",
        "yYIxW5GCbemH",
        "KCCxP2gJdc0d",
        "95fCHDJcgrIM",
        "6XnaOal9h72x",
        "iAVvR_KrmhyI",
        "kWs4BfUandcG",
        "Rrs4w_ht0Gz1",
        "_j2-7sN90tZm",
        "b8G0hgle2A9t",
        "dk_SFDPY22jd",
        "eeydRh7YGJJG"
      ],
      "include_colab_link": true,
      "name": "Basic Python Refresher.ipynb",
      "provenance": []
    },
    "kernelspec": {
      "display_name": "rdkit",
      "language": "python",
      "name": "python3"
    },
    "language_info": {
      "name": "python",
      "version": "3.9.1 (default, Dec 11 2020, 06:28:49) \n[Clang 10.0.0 ]"
    },
    "vscode": {
      "interpreter": {
        "hash": "984c61d9eae59f925342f013e6d67034dbdb09854ae1bd3515009e4153808d15"
      }
    }
  },
  "nbformat": 4,
  "nbformat_minor": 0
}
