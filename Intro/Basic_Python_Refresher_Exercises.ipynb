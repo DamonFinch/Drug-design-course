{
  "cells": [
    {
      "cell_type": "markdown",
      "metadata": {
        "colab_type": "text",
        "id": "view-in-github"
      },
      "source": [
        "<a href=\"https://colab.research.google.com/github/UAMCAntwerpen/2040FBDBIC/blob/master/Basic_Python_Refresher_Exercises.ipynb\" target=\"_parent\"><img src=\"https://colab.research.google.com/assets/colab-badge.svg\" alt=\"Open In Colab\"/></a>"
      ]
    },
    {
      "cell_type": "markdown",
      "metadata": {
        "id": "lVja1RGtj0MX"
      },
      "source": [
        "## Exercise 1\n",
        "\n",
        "Create a function `calc()` that acts as a simple calculator. Make sure to implement four operations: \"add\", \"substract\", \"divide\", \"multiply\". If the operation is not specified, default to addition. If the operation is misspecified, return an prompt message. For example, `calc(4,5,\"multiply\")` should return 20, `calc(3,5)` should returns 8, and `calc(1, 2, \"something\")` should return an error message."
      ]
    },
    {
      "cell_type": "code",
      "execution_count": null,
      "metadata": {
        "id": "2naI10eXjwVE"
      },
      "outputs": [],
      "source": []
    },
    {
      "cell_type": "markdown",
      "metadata": {
        "id": "6mk7E6DhkU6x"
      },
      "source": [
        "## Exercise 2\n",
        "\n",
        "Given a list of numbers, create a function that returns a list where all adjacent duplicate elements have been reduced to a single element. For example, [1, 2, 2, 3, 2] returns [1, 2, 3, 2]"
      ]
    },
    {
      "cell_type": "code",
      "execution_count": null,
      "metadata": {
        "id": "zCffSW4-kdV6"
      },
      "outputs": [],
      "source": []
    },
    {
      "cell_type": "markdown",
      "metadata": {
        "id": "7Q8Ui1UskfEa"
      },
      "source": [
        "## Exercise 3\n",
        "\n",
        "Copy/paste the BSD 4 clause license (https://en.wikipedia.org/wiki/BSD_licenses) into a text file. Read the file and count the occurrences of each word within the file. Store the words’ occurrence number in a dictionary."
      ]
    },
    {
      "cell_type": "code",
      "execution_count": null,
      "metadata": {
        "id": "xyrWlqkqknX0"
      },
      "outputs": [],
      "source": []
    },
    {
      "cell_type": "markdown",
      "metadata": {
        "id": "N34BNd_zkoCL"
      },
      "source": [
        "## Exercise 4\n",
        "\n",
        "Write a program that enumerates all different configurations that are possible when positioning three 1’s into a an array of ten cells. The following configurations illustrate two valid examples: \n",
        "```\n",
        "0 1 1 0 0 1 0 0 0 0 0\n",
        "0 1 0 0 0 1 0 0 0 0 1\n",
        "``` \n",
        "\n",
        "Note: with ten positions and three 1’s to be placed, the total number of possible configurations (n) should be:\n",
        "\n",
        "n = 10! / 3! x (10-3)! = 120"
      ]
    },
    {
      "cell_type": "code",
      "execution_count": null,
      "metadata": {
        "id": "uI_mastBlkk6"
      },
      "outputs": [],
      "source": []
    }
  ],
  "metadata": {
    "colab": {
      "authorship_tag": "ABX9TyPZO9fFjK/g96fVpnB3RptY",
      "include_colab_link": true,
      "provenance": []
    },
    "kernelspec": {
      "display_name": "rdkit",
      "language": "python",
      "name": "python3"
    },
    "language_info": {
      "name": "python",
      "version": "3.9.1 (default, Dec 11 2020, 06:28:49) \n[Clang 10.0.0 ]"
    },
    "vscode": {
      "interpreter": {
        "hash": "984c61d9eae59f925342f013e6d67034dbdb09854ae1bd3515009e4153808d15"
      }
    }
  },
  "nbformat": 4,
  "nbformat_minor": 0
}
