{
  "nbformat": 4,
  "nbformat_minor": 0,
  "metadata": {
    "colab": {
      "provenance": [],
      "authorship_tag": "ABX9TyPZO9fFjK/g96fVpnB3RptY",
      "include_colab_link": true
    },
    "kernelspec": {
      "name": "python3",
      "display_name": "Python 3"
    },
    "language_info": {
      "name": "python"
    }
  },
  "cells": [
    {
      "cell_type": "markdown",
      "metadata": {
        "id": "view-in-github",
        "colab_type": "text"
      },
      "source": [
        "<a href=\"https://colab.research.google.com/github/UAMCAntwerpen/2040FBDBIC/blob/master/Basic_Python_Refresher_Exercises.ipynb\" target=\"_parent\"><img src=\"https://colab.research.google.com/assets/colab-badge.svg\" alt=\"Open In Colab\"/></a>"
      ]
    },
    {
      "cell_type": "markdown",
      "source": [
        "## Exercise 1\n",
        "\n",
        "Create a function `calc()` that acts as a simple calculator. Make sure to implement four operations: \"add\", \"substract\", \"divide\", \"multiply\". If the operation is not specified, default to addition. If the operation is misspecified, return an prompt message. For example, `calc(4,5,\"multiply\")` should return 20, `calc(3,5)` should returns 8, and `calc(1, 2, \"something\")` should return an error message."
      ],
      "metadata": {
        "id": "lVja1RGtj0MX"
      }
    },
    {
      "cell_type": "code",
      "execution_count": null,
      "metadata": {
        "id": "2naI10eXjwVE"
      },
      "outputs": [],
      "source": []
    },
    {
      "cell_type": "markdown",
      "source": [
        "## Exercise 2\n",
        "\n",
        "Given a list of numbers, create a function that returns a list where all adjacent duplicate elements have been reduced to a single element. For example, [1, 2, 2, 3, 2] returns [1, 2, 3, 2]"
      ],
      "metadata": {
        "id": "6mk7E6DhkU6x"
      }
    },
    {
      "cell_type": "code",
      "source": [],
      "metadata": {
        "id": "zCffSW4-kdV6"
      },
      "execution_count": null,
      "outputs": []
    },
    {
      "cell_type": "markdown",
      "source": [
        "## Exercise 3\n",
        "\n",
        "Copy/paste the BSD 4 clause license (https://en.wikipedia.org/wiki/BSD_licenses) into a text file. Read the file and count the occurrences of each word within the file. Store the words’ occurrence number in a dictionary."
      ],
      "metadata": {
        "id": "7Q8Ui1UskfEa"
      }
    },
    {
      "cell_type": "code",
      "source": [],
      "metadata": {
        "id": "xyrWlqkqknX0"
      },
      "execution_count": null,
      "outputs": []
    },
    {
      "cell_type": "markdown",
      "source": [
        "## Exercise 4\n",
        "\n",
        "Write a program that enumerates all different configurations that are possible when positioning three 1’s into a an array of ten cells. The following configurations illustrate two valid examples: \n",
        "```\n",
        "0 1 1 0 0 1 0 0 0 0 0\n",
        "0 1 0 0 0 1 0 0 0 0 1\n",
        "``` \n",
        "\n",
        "Note: with ten positions and three 1’s to be placed, the total number of possible configurations (n) should be:\n",
        "\n",
        "n = 10! / 3! x (10-3)! = 120"
      ],
      "metadata": {
        "id": "N34BNd_zkoCL"
      }
    },
    {
      "cell_type": "code",
      "source": [],
      "metadata": {
        "id": "uI_mastBlkk6"
      },
      "execution_count": null,
      "outputs": []
    }
  ]
}
